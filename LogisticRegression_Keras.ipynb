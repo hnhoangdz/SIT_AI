{
  "nbformat": 4,
  "nbformat_minor": 0,
  "metadata": {
    "colab": {
      "name": "LogisticRegression_Keras.ipynb",
      "provenance": [],
      "authorship_tag": "ABX9TyMYXuLfZxoGllaMDVLi2TEi",
      "include_colab_link": true
    },
    "kernelspec": {
      "name": "python3",
      "display_name": "Python 3"
    },
    "language_info": {
      "name": "python"
    }
  },
  "cells": [
    {
      "cell_type": "markdown",
      "metadata": {
        "id": "view-in-github",
        "colab_type": "text"
      },
      "source": [
        "<a href=\"https://colab.research.google.com/github/hnhoangdz/SIT_AI/blob/main/LogisticRegression_Keras.ipynb\" target=\"_parent\"><img src=\"https://colab.research.google.com/assets/colab-badge.svg\" alt=\"Open In Colab\"/></a>"
      ]
    },
    {
      "cell_type": "code",
      "metadata": {
        "colab": {
          "base_uri": "https://localhost:8080/"
        },
        "id": "bs6HULUoxiC1",
        "outputId": "390e64f5-1c0b-477d-aa7a-b696e36aa8cb"
      },
      "source": [
        "from google.colab import drive\n",
        "drive.mount('/content/drive')\n",
        "import pandas as pd\n",
        "import numpy as np\n",
        "from sklearn.model_selection import train_test_split\n",
        "df = pd.read_csv(\"/content/drive/MyDrive/Colab Notebooks/Project/SIT_Project/heart.csv\")\n",
        "df = pd.get_dummies(df, columns=['Sex', 'ChestPainType','RestingECG','ExerciseAngina','ST_Slope'])\n",
        "num_list= [\"Age\",\"RestingBP\",\"Cholesterol\",\"FastingBS\",\"MaxHR\",\"Oldpeak\"]\n",
        "for i in num_list:\n",
        "  mean = df[i].mean()\n",
        "  std = df[i].std()\n",
        "  df[i] = (df[i]-mean)/std\n",
        "Y = df['HeartDisease']\n",
        "X = df.drop(columns=[\"HeartDisease\"])\n",
        "X_train,X_test,Y_train,Y_test = train_test_split(X,Y,test_size=0.2,stratify=Y,random_state=123)\n",
        "print(X_train.shape)\n",
        "print(Y_train.shape)\n",
        "print(X_test.shape)\n",
        "print(Y_test.shape)\n",
        "print(type(X_train))"
      ],
      "execution_count": 1,
      "outputs": [
        {
          "output_type": "stream",
          "name": "stdout",
          "text": [
            "Mounted at /content/drive\n",
            "(734, 20)\n",
            "(734,)\n",
            "(184, 20)\n",
            "(184,)\n",
            "<class 'pandas.core.frame.DataFrame'>\n"
          ]
        }
      ]
    },
    {
      "cell_type": "code",
      "metadata": {
        "colab": {
          "base_uri": "https://localhost:8080/"
        },
        "id": "fs1CO7RMxe4n",
        "outputId": "d8b0a577-a44a-48bf-b7da-0fae09218064"
      },
      "source": [
        "import numpy as np\n",
        "from keras.models import Sequential\n",
        "from keras.layers import Dense\n",
        "from keras.regularizers import L1L2\n",
        "from keras.layers import LeakyReLU\n",
        "\n",
        "\"\"\"\n",
        "Set up the logistic regression model\n",
        "\"\"\"\n",
        "model = Sequential()\n",
        "model.add(Dense(8, LeakyReLU(alpha=0.01),\n",
        "                kernel_regularizer=L1L2(l1=0.0, l2=0.1),\n",
        "                input_dim=X_train.shape[1]))\n",
        "# model.add(Dense(4, LeakyReLU(alpha=0.01),\n",
        "#                 kernel_regularizer=L1L2(l1=0.0, l2=0.1))) \n",
        "model.add(Dense(1, activation='sigmoid',\n",
        "                kernel_regularizer=L1L2(l1=0.0, l2=0.1)))\n",
        "model.compile(optimizer='sgd', loss='binary_crossentropy', metrics=['accuracy'])\n",
        "# model.fit(X_train, Y_train, epochs=100, validation_data=(X_test, Y_test))\n",
        "history = model.fit(X_train, Y_train, epochs=100, validation_data=(X_test, Y_test))\n",
        "\n",
        "model.test_on_batch(X_test, Y_test)\n",
        "model.metrics_names"
      ],
      "execution_count": 2,
      "outputs": [
        {
          "output_type": "stream",
          "name": "stdout",
          "text": [
            "Epoch 1/100\n",
            "23/23 [==============================] - 1s 12ms/step - loss: 2.0418 - accuracy: 0.3038 - val_loss: 1.9488 - val_accuracy: 0.3261\n",
            "Epoch 2/100\n",
            "23/23 [==============================] - 0s 3ms/step - loss: 1.8570 - accuracy: 0.3815 - val_loss: 1.7839 - val_accuracy: 0.4348\n",
            "Epoch 3/100\n",
            "23/23 [==============================] - 0s 2ms/step - loss: 1.7125 - accuracy: 0.4809 - val_loss: 1.6520 - val_accuracy: 0.5489\n",
            "Epoch 4/100\n",
            "23/23 [==============================] - 0s 3ms/step - loss: 1.5943 - accuracy: 0.5409 - val_loss: 1.5431 - val_accuracy: 0.5707\n",
            "Epoch 5/100\n",
            "23/23 [==============================] - 0s 3ms/step - loss: 1.4954 - accuracy: 0.6158 - val_loss: 1.4510 - val_accuracy: 0.6033\n",
            "Epoch 6/100\n",
            "23/23 [==============================] - 0s 2ms/step - loss: 1.4108 - accuracy: 0.6512 - val_loss: 1.3714 - val_accuracy: 0.6413\n",
            "Epoch 7/100\n",
            "23/23 [==============================] - 0s 3ms/step - loss: 1.3367 - accuracy: 0.6580 - val_loss: 1.3012 - val_accuracy: 0.6304\n",
            "Epoch 8/100\n",
            "23/23 [==============================] - 0s 2ms/step - loss: 1.2711 - accuracy: 0.6676 - val_loss: 1.2387 - val_accuracy: 0.6413\n",
            "Epoch 9/100\n",
            "23/23 [==============================] - 0s 3ms/step - loss: 1.2124 - accuracy: 0.6839 - val_loss: 1.1827 - val_accuracy: 0.6522\n",
            "Epoch 10/100\n",
            "23/23 [==============================] - 0s 3ms/step - loss: 1.1598 - accuracy: 0.6907 - val_loss: 1.1324 - val_accuracy: 0.6902\n",
            "Epoch 11/100\n",
            "23/23 [==============================] - 0s 2ms/step - loss: 1.1122 - accuracy: 0.7057 - val_loss: 1.0870 - val_accuracy: 0.6902\n",
            "Epoch 12/100\n",
            "23/23 [==============================] - 0s 2ms/step - loss: 1.0691 - accuracy: 0.7221 - val_loss: 1.0459 - val_accuracy: 0.6957\n",
            "Epoch 13/100\n",
            "23/23 [==============================] - 0s 3ms/step - loss: 1.0298 - accuracy: 0.7357 - val_loss: 1.0085 - val_accuracy: 0.7065\n",
            "Epoch 14/100\n",
            "23/23 [==============================] - 0s 2ms/step - loss: 0.9941 - accuracy: 0.7534 - val_loss: 0.9741 - val_accuracy: 0.7283\n",
            "Epoch 15/100\n",
            "23/23 [==============================] - 0s 3ms/step - loss: 0.9614 - accuracy: 0.7602 - val_loss: 0.9427 - val_accuracy: 0.7663\n",
            "Epoch 16/100\n",
            "23/23 [==============================] - 0s 3ms/step - loss: 0.9316 - accuracy: 0.7684 - val_loss: 0.9140 - val_accuracy: 0.7772\n",
            "Epoch 17/100\n",
            "23/23 [==============================] - 0s 3ms/step - loss: 0.9042 - accuracy: 0.7820 - val_loss: 0.8879 - val_accuracy: 0.7772\n",
            "Epoch 18/100\n",
            "23/23 [==============================] - 0s 3ms/step - loss: 0.8793 - accuracy: 0.7929 - val_loss: 0.8642 - val_accuracy: 0.7935\n",
            "Epoch 19/100\n",
            "23/23 [==============================] - 0s 3ms/step - loss: 0.8566 - accuracy: 0.7929 - val_loss: 0.8426 - val_accuracy: 0.7935\n",
            "Epoch 20/100\n",
            "23/23 [==============================] - 0s 2ms/step - loss: 0.8360 - accuracy: 0.7970 - val_loss: 0.8230 - val_accuracy: 0.8043\n",
            "Epoch 21/100\n",
            "23/23 [==============================] - 0s 2ms/step - loss: 0.8171 - accuracy: 0.8038 - val_loss: 0.8052 - val_accuracy: 0.8043\n",
            "Epoch 22/100\n",
            "23/23 [==============================] - 0s 2ms/step - loss: 0.7999 - accuracy: 0.8052 - val_loss: 0.7889 - val_accuracy: 0.7989\n",
            "Epoch 23/100\n",
            "23/23 [==============================] - 0s 2ms/step - loss: 0.7841 - accuracy: 0.8052 - val_loss: 0.7739 - val_accuracy: 0.7989\n",
            "Epoch 24/100\n",
            "23/23 [==============================] - 0s 3ms/step - loss: 0.7696 - accuracy: 0.8106 - val_loss: 0.7602 - val_accuracy: 0.7989\n",
            "Epoch 25/100\n",
            "23/23 [==============================] - 0s 3ms/step - loss: 0.7564 - accuracy: 0.8188 - val_loss: 0.7477 - val_accuracy: 0.8098\n",
            "Epoch 26/100\n",
            "23/23 [==============================] - 0s 3ms/step - loss: 0.7444 - accuracy: 0.8229 - val_loss: 0.7363 - val_accuracy: 0.8152\n",
            "Epoch 27/100\n",
            "23/23 [==============================] - 0s 3ms/step - loss: 0.7333 - accuracy: 0.8188 - val_loss: 0.7259 - val_accuracy: 0.8152\n",
            "Epoch 28/100\n",
            "23/23 [==============================] - 0s 3ms/step - loss: 0.7233 - accuracy: 0.8229 - val_loss: 0.7164 - val_accuracy: 0.8207\n",
            "Epoch 29/100\n",
            "23/23 [==============================] - 0s 3ms/step - loss: 0.7140 - accuracy: 0.8243 - val_loss: 0.7078 - val_accuracy: 0.8207\n",
            "Epoch 30/100\n",
            "23/23 [==============================] - 0s 4ms/step - loss: 0.7056 - accuracy: 0.8243 - val_loss: 0.6998 - val_accuracy: 0.8207\n",
            "Epoch 31/100\n",
            "23/23 [==============================] - 0s 3ms/step - loss: 0.6978 - accuracy: 0.8256 - val_loss: 0.6925 - val_accuracy: 0.8207\n",
            "Epoch 32/100\n",
            "23/23 [==============================] - 0s 2ms/step - loss: 0.6907 - accuracy: 0.8256 - val_loss: 0.6858 - val_accuracy: 0.8207\n",
            "Epoch 33/100\n",
            "23/23 [==============================] - 0s 3ms/step - loss: 0.6841 - accuracy: 0.8283 - val_loss: 0.6796 - val_accuracy: 0.8207\n",
            "Epoch 34/100\n",
            "23/23 [==============================] - 0s 3ms/step - loss: 0.6781 - accuracy: 0.8324 - val_loss: 0.6739 - val_accuracy: 0.8207\n",
            "Epoch 35/100\n",
            "23/23 [==============================] - 0s 3ms/step - loss: 0.6727 - accuracy: 0.8338 - val_loss: 0.6687 - val_accuracy: 0.8207\n",
            "Epoch 36/100\n",
            "23/23 [==============================] - 0s 3ms/step - loss: 0.6677 - accuracy: 0.8311 - val_loss: 0.6640 - val_accuracy: 0.8261\n",
            "Epoch 37/100\n",
            "23/23 [==============================] - 0s 2ms/step - loss: 0.6631 - accuracy: 0.8351 - val_loss: 0.6597 - val_accuracy: 0.8370\n",
            "Epoch 38/100\n",
            "23/23 [==============================] - 0s 3ms/step - loss: 0.6590 - accuracy: 0.8351 - val_loss: 0.6559 - val_accuracy: 0.8370\n",
            "Epoch 39/100\n",
            "23/23 [==============================] - 0s 2ms/step - loss: 0.6552 - accuracy: 0.8365 - val_loss: 0.6524 - val_accuracy: 0.8424\n",
            "Epoch 40/100\n",
            "23/23 [==============================] - 0s 3ms/step - loss: 0.6518 - accuracy: 0.8392 - val_loss: 0.6492 - val_accuracy: 0.8424\n",
            "Epoch 41/100\n",
            "23/23 [==============================] - 0s 2ms/step - loss: 0.6487 - accuracy: 0.8392 - val_loss: 0.6463 - val_accuracy: 0.8424\n",
            "Epoch 42/100\n",
            "23/23 [==============================] - 0s 3ms/step - loss: 0.6458 - accuracy: 0.8365 - val_loss: 0.6437 - val_accuracy: 0.8424\n",
            "Epoch 43/100\n",
            "23/23 [==============================] - 0s 3ms/step - loss: 0.6432 - accuracy: 0.8379 - val_loss: 0.6413 - val_accuracy: 0.8424\n",
            "Epoch 44/100\n",
            "23/23 [==============================] - 0s 2ms/step - loss: 0.6408 - accuracy: 0.8365 - val_loss: 0.6390 - val_accuracy: 0.8424\n",
            "Epoch 45/100\n",
            "23/23 [==============================] - 0s 3ms/step - loss: 0.6387 - accuracy: 0.8392 - val_loss: 0.6370 - val_accuracy: 0.8424\n",
            "Epoch 46/100\n",
            "23/23 [==============================] - 0s 3ms/step - loss: 0.6366 - accuracy: 0.8379 - val_loss: 0.6352 - val_accuracy: 0.8424\n",
            "Epoch 47/100\n",
            "23/23 [==============================] - 0s 3ms/step - loss: 0.6348 - accuracy: 0.8379 - val_loss: 0.6334 - val_accuracy: 0.8424\n",
            "Epoch 48/100\n",
            "23/23 [==============================] - 0s 3ms/step - loss: 0.6331 - accuracy: 0.8392 - val_loss: 0.6319 - val_accuracy: 0.8424\n",
            "Epoch 49/100\n",
            "23/23 [==============================] - 0s 3ms/step - loss: 0.6316 - accuracy: 0.8365 - val_loss: 0.6304 - val_accuracy: 0.8424\n",
            "Epoch 50/100\n",
            "23/23 [==============================] - 0s 3ms/step - loss: 0.6301 - accuracy: 0.8379 - val_loss: 0.6291 - val_accuracy: 0.8424\n",
            "Epoch 51/100\n",
            "23/23 [==============================] - 0s 3ms/step - loss: 0.6289 - accuracy: 0.8392 - val_loss: 0.6279 - val_accuracy: 0.8478\n",
            "Epoch 52/100\n",
            "23/23 [==============================] - 0s 3ms/step - loss: 0.6276 - accuracy: 0.8392 - val_loss: 0.6267 - val_accuracy: 0.8478\n",
            "Epoch 53/100\n",
            "23/23 [==============================] - 0s 3ms/step - loss: 0.6264 - accuracy: 0.8392 - val_loss: 0.6257 - val_accuracy: 0.8478\n",
            "Epoch 54/100\n",
            "23/23 [==============================] - 0s 2ms/step - loss: 0.6254 - accuracy: 0.8392 - val_loss: 0.6247 - val_accuracy: 0.8478\n",
            "Epoch 55/100\n",
            "23/23 [==============================] - 0s 3ms/step - loss: 0.6244 - accuracy: 0.8392 - val_loss: 0.6238 - val_accuracy: 0.8533\n",
            "Epoch 56/100\n",
            "23/23 [==============================] - 0s 2ms/step - loss: 0.6235 - accuracy: 0.8392 - val_loss: 0.6230 - val_accuracy: 0.8533\n",
            "Epoch 57/100\n",
            "23/23 [==============================] - 0s 3ms/step - loss: 0.6226 - accuracy: 0.8392 - val_loss: 0.6222 - val_accuracy: 0.8533\n",
            "Epoch 58/100\n",
            "23/23 [==============================] - 0s 3ms/step - loss: 0.6218 - accuracy: 0.8392 - val_loss: 0.6214 - val_accuracy: 0.8533\n",
            "Epoch 59/100\n",
            "23/23 [==============================] - 0s 2ms/step - loss: 0.6211 - accuracy: 0.8406 - val_loss: 0.6208 - val_accuracy: 0.8533\n",
            "Epoch 60/100\n",
            "23/23 [==============================] - 0s 3ms/step - loss: 0.6204 - accuracy: 0.8392 - val_loss: 0.6201 - val_accuracy: 0.8533\n",
            "Epoch 61/100\n",
            "23/23 [==============================] - 0s 2ms/step - loss: 0.6197 - accuracy: 0.8420 - val_loss: 0.6195 - val_accuracy: 0.8587\n",
            "Epoch 62/100\n",
            "23/23 [==============================] - 0s 3ms/step - loss: 0.6191 - accuracy: 0.8406 - val_loss: 0.6190 - val_accuracy: 0.8587\n",
            "Epoch 63/100\n",
            "23/23 [==============================] - 0s 2ms/step - loss: 0.6185 - accuracy: 0.8420 - val_loss: 0.6184 - val_accuracy: 0.8587\n",
            "Epoch 64/100\n",
            "23/23 [==============================] - 0s 3ms/step - loss: 0.6179 - accuracy: 0.8392 - val_loss: 0.6179 - val_accuracy: 0.8587\n",
            "Epoch 65/100\n",
            "23/23 [==============================] - 0s 2ms/step - loss: 0.6174 - accuracy: 0.8420 - val_loss: 0.6174 - val_accuracy: 0.8587\n",
            "Epoch 66/100\n",
            "23/23 [==============================] - 0s 3ms/step - loss: 0.6169 - accuracy: 0.8433 - val_loss: 0.6169 - val_accuracy: 0.8587\n",
            "Epoch 67/100\n",
            "23/23 [==============================] - 0s 3ms/step - loss: 0.6165 - accuracy: 0.8433 - val_loss: 0.6165 - val_accuracy: 0.8587\n",
            "Epoch 68/100\n",
            "23/23 [==============================] - 0s 3ms/step - loss: 0.6160 - accuracy: 0.8447 - val_loss: 0.6160 - val_accuracy: 0.8587\n",
            "Epoch 69/100\n",
            "23/23 [==============================] - 0s 3ms/step - loss: 0.6155 - accuracy: 0.8433 - val_loss: 0.6156 - val_accuracy: 0.8587\n",
            "Epoch 70/100\n",
            "23/23 [==============================] - 0s 3ms/step - loss: 0.6152 - accuracy: 0.8420 - val_loss: 0.6153 - val_accuracy: 0.8587\n",
            "Epoch 71/100\n",
            "23/23 [==============================] - 0s 3ms/step - loss: 0.6147 - accuracy: 0.8420 - val_loss: 0.6149 - val_accuracy: 0.8587\n",
            "Epoch 72/100\n",
            "23/23 [==============================] - 0s 2ms/step - loss: 0.6144 - accuracy: 0.8433 - val_loss: 0.6145 - val_accuracy: 0.8587\n",
            "Epoch 73/100\n",
            "23/23 [==============================] - 0s 3ms/step - loss: 0.6141 - accuracy: 0.8460 - val_loss: 0.6142 - val_accuracy: 0.8587\n",
            "Epoch 74/100\n",
            "23/23 [==============================] - 0s 3ms/step - loss: 0.6137 - accuracy: 0.8433 - val_loss: 0.6138 - val_accuracy: 0.8587\n",
            "Epoch 75/100\n",
            "23/23 [==============================] - 0s 2ms/step - loss: 0.6133 - accuracy: 0.8433 - val_loss: 0.6135 - val_accuracy: 0.8587\n",
            "Epoch 76/100\n",
            "23/23 [==============================] - 0s 3ms/step - loss: 0.6130 - accuracy: 0.8447 - val_loss: 0.6132 - val_accuracy: 0.8587\n",
            "Epoch 77/100\n",
            "23/23 [==============================] - 0s 3ms/step - loss: 0.6127 - accuracy: 0.8447 - val_loss: 0.6129 - val_accuracy: 0.8587\n",
            "Epoch 78/100\n",
            "23/23 [==============================] - 0s 3ms/step - loss: 0.6124 - accuracy: 0.8447 - val_loss: 0.6126 - val_accuracy: 0.8587\n",
            "Epoch 79/100\n",
            "23/23 [==============================] - 0s 2ms/step - loss: 0.6121 - accuracy: 0.8460 - val_loss: 0.6123 - val_accuracy: 0.8587\n",
            "Epoch 80/100\n",
            "23/23 [==============================] - 0s 2ms/step - loss: 0.6118 - accuracy: 0.8433 - val_loss: 0.6121 - val_accuracy: 0.8587\n",
            "Epoch 81/100\n",
            "23/23 [==============================] - 0s 3ms/step - loss: 0.6116 - accuracy: 0.8420 - val_loss: 0.6118 - val_accuracy: 0.8587\n",
            "Epoch 82/100\n",
            "23/23 [==============================] - 0s 2ms/step - loss: 0.6113 - accuracy: 0.8433 - val_loss: 0.6116 - val_accuracy: 0.8587\n",
            "Epoch 83/100\n",
            "23/23 [==============================] - 0s 2ms/step - loss: 0.6111 - accuracy: 0.8447 - val_loss: 0.6113 - val_accuracy: 0.8587\n",
            "Epoch 84/100\n",
            "23/23 [==============================] - 0s 2ms/step - loss: 0.6108 - accuracy: 0.8460 - val_loss: 0.6111 - val_accuracy: 0.8587\n",
            "Epoch 85/100\n",
            "23/23 [==============================] - 0s 3ms/step - loss: 0.6106 - accuracy: 0.8433 - val_loss: 0.6108 - val_accuracy: 0.8587\n",
            "Epoch 86/100\n",
            "23/23 [==============================] - 0s 3ms/step - loss: 0.6104 - accuracy: 0.8447 - val_loss: 0.6106 - val_accuracy: 0.8587\n",
            "Epoch 87/100\n",
            "23/23 [==============================] - 0s 2ms/step - loss: 0.6101 - accuracy: 0.8460 - val_loss: 0.6104 - val_accuracy: 0.8587\n",
            "Epoch 88/100\n",
            "23/23 [==============================] - 0s 3ms/step - loss: 0.6099 - accuracy: 0.8433 - val_loss: 0.6101 - val_accuracy: 0.8587\n",
            "Epoch 89/100\n",
            "23/23 [==============================] - 0s 3ms/step - loss: 0.6097 - accuracy: 0.8447 - val_loss: 0.6099 - val_accuracy: 0.8587\n",
            "Epoch 90/100\n",
            "23/23 [==============================] - 0s 3ms/step - loss: 0.6095 - accuracy: 0.8447 - val_loss: 0.6097 - val_accuracy: 0.8587\n",
            "Epoch 91/100\n",
            "23/23 [==============================] - 0s 2ms/step - loss: 0.6093 - accuracy: 0.8433 - val_loss: 0.6095 - val_accuracy: 0.8587\n",
            "Epoch 92/100\n",
            "23/23 [==============================] - 0s 3ms/step - loss: 0.6090 - accuracy: 0.8460 - val_loss: 0.6093 - val_accuracy: 0.8587\n",
            "Epoch 93/100\n",
            "23/23 [==============================] - 0s 2ms/step - loss: 0.6089 - accuracy: 0.8447 - val_loss: 0.6092 - val_accuracy: 0.8587\n",
            "Epoch 94/100\n",
            "23/23 [==============================] - 0s 3ms/step - loss: 0.6086 - accuracy: 0.8433 - val_loss: 0.6090 - val_accuracy: 0.8587\n",
            "Epoch 95/100\n",
            "23/23 [==============================] - 0s 3ms/step - loss: 0.6085 - accuracy: 0.8460 - val_loss: 0.6088 - val_accuracy: 0.8587\n",
            "Epoch 96/100\n",
            "23/23 [==============================] - 0s 3ms/step - loss: 0.6083 - accuracy: 0.8447 - val_loss: 0.6086 - val_accuracy: 0.8587\n",
            "Epoch 97/100\n",
            "23/23 [==============================] - 0s 3ms/step - loss: 0.6081 - accuracy: 0.8474 - val_loss: 0.6085 - val_accuracy: 0.8587\n",
            "Epoch 98/100\n",
            "23/23 [==============================] - 0s 3ms/step - loss: 0.6079 - accuracy: 0.8447 - val_loss: 0.6083 - val_accuracy: 0.8587\n",
            "Epoch 99/100\n",
            "23/23 [==============================] - 0s 3ms/step - loss: 0.6078 - accuracy: 0.8447 - val_loss: 0.6081 - val_accuracy: 0.8587\n",
            "Epoch 100/100\n",
            "23/23 [==============================] - 0s 3ms/step - loss: 0.6075 - accuracy: 0.8447 - val_loss: 0.6080 - val_accuracy: 0.8587\n"
          ]
        },
        {
          "output_type": "execute_result",
          "data": {
            "text/plain": [
              "['loss', 'accuracy']"
            ]
          },
          "metadata": {},
          "execution_count": 2
        }
      ]
    },
    {
      "cell_type": "code",
      "metadata": {
        "colab": {
          "base_uri": "https://localhost:8080/",
          "height": 590
        },
        "id": "GIS522ob2AHI",
        "outputId": "4c61a0b4-6c05-494e-b2a8-aa39952fd156"
      },
      "source": [
        "import matplotlib.pyplot as plt\n",
        "print(history.history.keys())\n",
        "#  \"Accuracy\"\n",
        "plt.plot(history.history['accuracy'])\n",
        "plt.plot(history.history['val_accuracy'])\n",
        "plt.title('model accuracy')\n",
        "plt.ylabel('accuracy')\n",
        "plt.xlabel('epoch')\n",
        "plt.legend(['train', 'validation'], loc='upper left')\n",
        "plt.show()\n",
        "# \"Loss\"\n",
        "plt.plot(history.history['loss'])\n",
        "plt.plot(history.history['val_loss'])\n",
        "plt.title('model loss')\n",
        "plt.ylabel('loss')\n",
        "plt.xlabel('epoch')\n",
        "plt.legend(['train', 'validation'], loc='upper left')\n",
        "plt.show()"
      ],
      "execution_count": 4,
      "outputs": [
        {
          "output_type": "stream",
          "name": "stdout",
          "text": [
            "dict_keys(['loss', 'accuracy', 'val_loss', 'val_accuracy'])\n"
          ]
        },
        {
          "output_type": "display_data",
          "data": {
            "image/png": "[encoded data removed]",
            "text/plain": [
              "<Figure size 432x288 with 1 Axes>"
            ]
          },
          "metadata": {
            "needs_background": "light"
          }
        },
        {
          "output_type": "display_data",
          "data": {
            "image/png": "[encoded data removed]",
            "text/plain": [
              "<Figure size 432x288 with 1 Axes>"
            ]
          },
          "metadata": {
            "needs_background": "light"
          }
        }
      ]
    }
  ]
}